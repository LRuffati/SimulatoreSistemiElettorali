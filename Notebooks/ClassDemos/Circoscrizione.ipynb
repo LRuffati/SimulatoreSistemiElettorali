{
 "cells": [
  {
   "cell_type": "code",
   "execution_count": 1,
   "metadata": {},
   "outputs": [],
   "source": [
    "import sys\n",
    "sys.path.insert(1, '/home/lruffati/Documents/0.University/0.SistemiElettorali/')\n",
    "import src\n",
    "\n",
    "from src.Metaclasses import *\n",
    "import src.GlobalVars as GlobalVars\n",
    "import random"
   ]
  },
  {
   "cell_type": "code",
   "execution_count": 2,
   "metadata": {
    "code_folding": [
     0
    ]
   },
   "outputs": [],
   "source": [
    "class HubClass:\n",
    "    def __init__(self, *args):\n",
    "        self.instances_dict = {}\n",
    "        self.subs_relations = {}\n",
    "    \n",
    "    def get_subdivisions(self, sup, sub_name):\n",
    "        \"\"\"\n",
    "        sup: o un'istanza di una geoEnt, o una tupla (nomeClasse, nomeIstanza)\n",
    "        sub_name: nome classe target\n",
    "\n",
    "        return: list of names (stringhe)\n",
    "        \"\"\"\n",
    "        print(\"Get subdivisions: \", sup, sub_name)\n",
    "        typ = None\n",
    "        inst = sup\n",
    "        if type(sup) == tuple:\n",
    "            typ = sup[0]\n",
    "            inst = self.get_instance(typ, sup[1])\n",
    "        else:\n",
    "            typ = sup.type\n",
    "            name = sup.name\n",
    "        \n",
    "        var_name = self.subs_relations[typ][sub_name]\n",
    "        \n",
    "        print(\"getattr \", inst, var_name)\n",
    "        return getattr(inst, var_name)\n",
    "    \n",
    "    def get_superdivision(self, sub, sup_name):\n",
    "        \"\"\"\n",
    "        sub: o un'istanza o una tuple\n",
    "        sup_name: nome classe target\n",
    "\n",
    "        return nome istanza target\n",
    "        \"\"\"\n",
    "        pass\n",
    "\n",
    "    def add_instance(self, class_name, inst_name, instance):\n",
    "        instances = self.instances_dict.get(class_name, {})\n",
    "        instances[inst_name] = instance\n",
    "        self.instances_dict[class_name] = instances\n",
    "    \n",
    "    def get_instance(self, class_name, inst_name):\n",
    "        print(\"Get inst: \", class_name, inst_name)\n",
    "        return self.instances_dict[class_name][inst_name]\n",
    "\n",
    "    def add_subdiv(self, sup_type, sub_type, var_name):\n",
    "        \"\"\"\n",
    "        Records that instances of sup_type have instances of sub_type \n",
    "        stored in self.var_name\n",
    "        \"\"\"\n",
    "        print(\"Adding sub: \",sup_type, sub_type, var_name)\n",
    "        sup_dict = self.subs_relations.get(sup_type, {})\n",
    "        sup_dict[sub_type] = var_name\n",
    "        self.subs_relations[sup_type]= sup_dict\n",
    "\n",
    "src.GlobalVars.Hub = HubClass()"
   ]
  },
  {
   "cell_type": "code",
   "execution_count": 3,
   "metadata": {
    "code_folding": [
     0
    ]
   },
   "outputs": [],
   "source": [
    "def print_dict(dic, indent=0):\n",
    "    if type(dic) == list:\n",
    "        for i in dic:\n",
    "            print_dict(i, indent)\n",
    "        return\n",
    "    if type(dic) != dict:\n",
    "        print(indent*\"--\", dic)\n",
    "        return\n",
    "    \n",
    "    for k, d in dic.items():\n",
    "        print(indent*\"--\", k, \":\")\n",
    "        print_dict(d, indent+1)"
   ]
  },
  {
   "cell_type": "code",
   "execution_count": 4,
   "metadata": {
    "code_folding": [
     0,
     1,
     8,
     31,
     39
    ]
   },
   "outputs": [],
   "source": [
    "config = {\n",
    " 'lane': {'plurinominale': {'first_input': 'kwarg',\n",
    "                            'info_name': 'Circoscrizione',\n",
    "                            'node_type': 'node',\n",
    "                            'operations': [{'collect_type': 'lista',\n",
    "                                            'corrector': 'commons.correct',\n",
    "                                            'ideal_distribution': '$'}],\n",
    "                            'sub_level': 'Plurinominale'}},\n",
    " 'lanes_propose': {'elettori': {'distribution': ['Elettore', 'Seggi'],\n",
    "                                'info': ['RestoCircoCoal',\n",
    "                                         'RestoCircoCoalUsato'],\n",
    "                                'source': {'args': [{'source': {'columns': ['Elettore -> Party',\n",
    "                                                                            'Voti -> Votes'],\n",
    "                                                                'name': 'self.eleggibili',\n",
    "                                                                'type': 'fun'}},\n",
    "                                                    {'source': {'name': 'self.subs_plurinominali_seggi',\n",
    "                                                                'type': 'fun'}}],\n",
    "                                           'columns': ['Party -> Elettore',\n",
    "                                                       'Seats -> Seggi',\n",
    "                                                       'Remainder -> RestoCircoCoal',\n",
    "                                                       'RemainderUsed -> RestoCircoCoalUsato'],\n",
    "                                           'name': 'commons.hondt',\n",
    "                                           'type': 'fun'}},\n",
    "                   'liste': {'distribution': ['Lista', 'Seggi'],\n",
    "                             'info': ['RestoCircoLista',\n",
    "                                      'RestoCircoListaUsato'],\n",
    "                             'source': {'kwargs': {'seggi': {'source': {'name': 'constraints',\n",
    "                                                                        'type': 'kwarg'}}},\n",
    "                                        'name': 'self.ripartisci_seggi',\n",
    "                                        'type': 'fun'}}},\n",
    " 'metaclasses': ['superdivision', 'totals', 'lanes', 'external'],\n",
    " 'subdivisions': {'plurinominali': {'functions': [{'name': 'seggi',\n",
    "                                                   'source': {'name': 'self.seggi',\n",
    "                                                              'type': 'att'}},\n",
    "                                                  {'name': 'liste',\n",
    "                                                   'source': {'totals': 'lista'}},\n",
    "                                                  {'name': 'coalizioni',\n",
    "                                                   'source': {'totals': 'coalizione'}}],\n",
    "                                    'type': 'Plurinominale'}},\n",
    " 'totals': {'coalizione': {'keys': ['Coalizione'],\n",
    "                           'ops': {'Voti': 'sum'},\n",
    "                           'source': {'name': 'self.subs_plurinominali_coalizioni',\n",
    "                                      'type': 'fun'},\n",
    "                           'type': 'aggregate'},\n",
    "            'lista': {'keys': ['Lista'],\n",
    "                      'ops': {'Voti': 'sum'},\n",
    "                      'source': {'name': 'self.subs_plurinominali_liste',\n",
    "                                 'type': 'fun'},\n",
    "                      'type': 'aggregate'}},\n",
    " 'totals_support': {'eleggibili': {'args': [{'source': {'args': ['coal_eletta'],\n",
    "                                                        'columns': ['Coalizione -> Elettore',\n",
    "                                                                    'Voti'],\n",
    "                                                        'totals': 'coalizione'},\n",
    "                                             'type': 'scalar'},\n",
    "                                            {'source': {'args': ['eletta_sola'],\n",
    "                                                        'columns': ['Lista -> Elettore',\n",
    "                                                                    'Voti'],\n",
    "                                                        'totals': 'lista'},\n",
    "                                             'type': 'scalar'}],\n",
    "                                   'function': 'commons.concat',\n",
    "                                   'type': 'combine'},\n",
    "                    'elettore_lista': {'ops': [{'column': 'Lista',\n",
    "                                                'column_type': 'Partito',\n",
    "                                                'replace_name': 'Elettore',\n",
    "                                                'source': {'attr': ['elettore'],\n",
    "                                                           'name': 'commons.exec_fun',\n",
    "                                                           'type': 'fun'},\n",
    "                                                'type': 'column'}],\n",
    "                                       'source': {'totals': 'lista'},\n",
    "                                       'type': 'transform'},\n",
    "                    'ripartisci_seggi': {'args': [{'source': {'args': ['eletta'],\n",
    "                                                              'rename': {'Lista': 'Party',\n",
    "                                                                         'Voti': 'Votes'},\n",
    "                                                              'totals': 'lista'},\n",
    "                                                   'type': 'dataframe'},\n",
    "                                                  {'source': {'columns': ['Lista -> Party',\n",
    "                                                                          'Elettore'],\n",
    "                                                              'name': 'self.elettore_lista',\n",
    "                                                              'type': 'fun'},\n",
    "                                                   'type': 'dataframe'},\n",
    "                                                  {'source': {'columns': ['Elettore',\n",
    "                                                                          'Seggi -> seats'],\n",
    "                                                              'name': 'seggi',\n",
    "                                                              'type': 'kwarg'},\n",
    "                                                   'type': 'series'}],\n",
    "                                         'function': 'commons.hondt',\n",
    "                                         'keys': ['Elettore'],\n",
    "                                         'merge_keys': ['Party'],\n",
    "                                         'rename': {'Party': 'Lista',\n",
    "                                                    'Remainder': 'RestoCircoLista',\n",
    "                                                    'RemainderUsed': 'RestoCircoListaUsato',\n",
    "                                                    'Seats': 'Seggi'},\n",
    "                                         'type': 'combine'}}}"
   ]
  },
  {
   "cell_type": "code",
   "execution_count": 5,
   "metadata": {
    "collapsed": true
   },
   "outputs": [
    {
     "name": "stdout",
     "output_type": "stream",
     "text": [
      "Parsing conf:  {'lane': {'plurinominale': {'first_input': 'kwarg', 'info_name': 'Circoscrizione', 'node_type': 'node', 'operations': [{'collect_type': 'lista', 'corrector': 'commons.correct', 'ideal_distribution': '$'}], 'sub_level': 'Plurinominale'}}, 'lanes_propose': {'elettori': {'distribution': ['Elettore', 'Seggi'], 'info': ['RestoCircoCoal', 'RestoCircoCoalUsato'], 'source': {'args': [{'source': {'columns': ['Elettore -> Party', 'Voti -> Votes'], 'name': 'self.eleggibili', 'type': 'fun'}}, {'source': {'name': 'self.subs_plurinominali_seggi', 'type': 'fun'}}], 'columns': ['Party -> Elettore', 'Seats -> Seggi', 'Remainder -> RestoCircoCoal', 'RemainderUsed -> RestoCircoCoalUsato'], 'name': 'commons.hondt', 'type': 'fun'}}, 'liste': {'distribution': ['Lista', 'Seggi'], 'info': ['RestoCircoLista', 'RestoCircoListaUsato'], 'source': {'kwargs': {'seggi': {'source': {'name': 'constraints', 'type': 'kwarg'}}}, 'name': 'self.ripartisci_seggi', 'type': 'fun'}}}, 'metaclasses': ['superdivision', 'totals', 'lanes', 'external'], 'subdivisions': {'plurinominali': {'functions': [{'name': 'seggi', 'source': {'name': 'self.seggi', 'type': 'att'}}, {'name': 'liste', 'source': {'type': 'fun', 'name': 'self.totals', 'args': ['lista']}}, {'name': 'coalizioni', 'source': {'type': 'fun', 'name': 'self.totals', 'args': ['coalizione']}}], 'type': 'Plurinominale'}}, 'totals': {'coalizione': {'keys': ['Coalizione'], 'ops': {'Voti': 'sum'}, 'source': {'name': 'self.subs_plurinominali_coalizioni', 'type': 'fun'}, 'type': 'aggregate'}, 'lista': {'keys': ['Lista'], 'ops': {'Voti': 'sum'}, 'source': {'name': 'self.subs_plurinominali_liste', 'type': 'fun'}, 'type': 'aggregate'}}, 'totals_support': {'eleggibili': {'args': [{'source': {'args': ['coalizione', 'coal_eletta'], 'columns': ['Coalizione -> Elettore', 'Voti'], 'type': 'fun', 'name': 'self.totals'}, 'type': 'scalar'}, {'source': {'args': ['lista', 'eletta_sola'], 'columns': ['Lista -> Elettore', 'Voti'], 'type': 'fun', 'name': 'self.totals'}, 'type': 'scalar'}], 'function': 'commons.concat', 'type': 'combine'}, 'elettore_lista': {'ops': [{'column': 'Lista', 'column_type': 'Partito', 'replace_name': 'Elettore', 'source': {'attr': ['elettore'], 'name': 'commons.exec_fun', 'type': 'fun'}, 'type': 'column'}], 'source': {'type': 'fun', 'name': 'self.totals', 'args': ['lista']}, 'type': 'transform'}, 'ripartisci_seggi': {'args': [{'source': {'args': ['lista', 'eletta'], 'rename': {'Lista': 'Party', 'Voti': 'Votes'}, 'type': 'fun', 'name': 'self.totals'}, 'type': 'dataframe'}, {'source': {'columns': ['Lista -> Party', 'Elettore'], 'name': 'self.elettore_lista', 'type': 'fun'}, 'type': 'dataframe'}, {'source': {'columns': ['Elettore', 'Seggi -> seats'], 'name': 'seggi', 'type': 'kwarg'}, 'type': 'series'}], 'function': 'commons.hondt', 'keys': ['Elettore'], 'merge_keys': ['Party'], 'rename': {'Party': 'Lista', 'Remainder': 'RestoCircoLista', 'RemainderUsed': 'RestoCircoListaUsato', 'Seats': 'Seggi'}, 'type': 'combine'}}}\n",
      "prova,  dict_keys(['lane', 'lanes_propose', 'metaclasses', 'subdivisions', 'totals', 'totals_support'])\n",
      "Parsing conf:  {'plurinominale': {'first_input': 'kwarg', 'info_name': 'Circoscrizione', 'node_type': 'node', 'operations': [{'collect_type': 'lista', 'corrector': 'commons.correct', 'ideal_distribution': '$'}], 'sub_level': 'Plurinominale'}}\n",
      "prova,  dict_keys(['plurinominale'])\n",
      "Parsing conf:  {'first_input': 'kwarg', 'info_name': 'Circoscrizione', 'node_type': 'node', 'operations': [{'collect_type': 'lista', 'corrector': 'commons.correct', 'ideal_distribution': '$'}], 'sub_level': 'Plurinominale'}\n",
      "prova,  dict_keys(['first_input', 'info_name', 'node_type', 'operations', 'sub_level'])\n",
      "Parsing conf:  kwarg\n",
      "Parsing conf:  Circoscrizione\n",
      "Parsing conf:  node\n",
      "Parsing conf:  [{'collect_type': 'lista', 'corrector': 'commons.correct', 'ideal_distribution': '$'}]\n",
      "Parsing conf:  {'collect_type': 'lista', 'corrector': 'commons.correct', 'ideal_distribution': '$'}\n",
      "prova,  dict_keys(['collect_type', 'corrector', 'ideal_distribution'])\n",
      "Parsing conf:  lista\n",
      "Parsing conf:  commons.correct\n",
      "Parsing conf:  $\n",
      "Parsing conf:  Plurinominale\n",
      "Parsing conf:  {'elettori': {'distribution': ['Elettore', 'Seggi'], 'info': ['RestoCircoCoal', 'RestoCircoCoalUsato'], 'source': {'args': [{'source': {'columns': ['Elettore -> Party', 'Voti -> Votes'], 'name': 'self.eleggibili', 'type': 'fun'}}, {'source': {'name': 'self.subs_plurinominali_seggi', 'type': 'fun'}}], 'columns': ['Party -> Elettore', 'Seats -> Seggi', 'Remainder -> RestoCircoCoal', 'RemainderUsed -> RestoCircoCoalUsato'], 'name': 'commons.hondt', 'type': 'fun'}}, 'liste': {'distribution': ['Lista', 'Seggi'], 'info': ['RestoCircoLista', 'RestoCircoListaUsato'], 'source': {'kwargs': {'seggi': {'source': {'name': 'constraints', 'type': 'kwarg'}}}, 'name': 'self.ripartisci_seggi', 'type': 'fun'}}}\n",
      "prova,  dict_keys(['elettori', 'liste'])\n",
      "Parsing conf:  {'distribution': ['Elettore', 'Seggi'], 'info': ['RestoCircoCoal', 'RestoCircoCoalUsato'], 'source': {'args': [{'source': {'columns': ['Elettore -> Party', 'Voti -> Votes'], 'name': 'self.eleggibili', 'type': 'fun'}}, {'source': {'name': 'self.subs_plurinominali_seggi', 'type': 'fun'}}], 'columns': ['Party -> Elettore', 'Seats -> Seggi', 'Remainder -> RestoCircoCoal', 'RemainderUsed -> RestoCircoCoalUsato'], 'name': 'commons.hondt', 'type': 'fun'}}\n",
      "prova,  dict_keys(['distribution', 'info', 'source'])\n",
      "Parsing conf:  ['Elettore', 'Seggi']\n",
      "Parsing conf:  Elettore\n",
      "Parsing conf:  Seggi\n",
      "Parsing conf:  ['RestoCircoCoal', 'RestoCircoCoalUsato']\n",
      "Parsing conf:  RestoCircoCoal\n",
      "Parsing conf:  RestoCircoCoalUsato\n",
      "Parsing conf:  {'args': [{'source': {'columns': ['Elettore -> Party', 'Voti -> Votes'], 'name': 'self.eleggibili', 'type': 'fun'}}, {'source': {'name': 'self.subs_plurinominali_seggi', 'type': 'fun'}}], 'columns': ['Party -> Elettore', 'Seats -> Seggi', 'Remainder -> RestoCircoCoal', 'RemainderUsed -> RestoCircoCoalUsato'], 'name': 'commons.hondt', 'type': 'fun'}\n",
      "In source\n",
      "Parsing fun:  commons.hondt [{'source': {'columns': ['Elettore -> Party', 'Voti -> Votes'], 'name': 'self.eleggibili', 'type': 'fun'}}, {'source': {'name': 'self.subs_plurinominali_seggi', 'type': 'fun'}}] None {'columns': ['Party -> Elettore', 'Seats -> Seggi', 'Remainder -> RestoCircoCoal', 'RemainderUsed -> RestoCircoCoalUsato'], 'type': 'fun'}\n",
      "Parsing conf:  {'source': {'columns': ['Elettore -> Party', 'Voti -> Votes'], 'name': 'self.eleggibili', 'type': 'fun'}}\n",
      "In source\n",
      "Parsing conf:  {'columns': ['Elettore -> Party', 'Voti -> Votes'], 'name': 'self.eleggibili', 'type': 'fun'}\n",
      "In source\n",
      "Parsing fun:  self.eleggibili None None {'columns': ['Elettore -> Party', 'Voti -> Votes'], 'type': 'fun'}\n",
      "Parsing conf:  {'source': {'name': 'self.subs_plurinominali_seggi', 'type': 'fun'}}\n",
      "In source\n",
      "Parsing conf:  {'name': 'self.subs_plurinominali_seggi', 'type': 'fun'}\n",
      "In source\n",
      "Parsing fun:  self.subs_plurinominali_seggi None None {'type': 'fun'}\n",
      "Parsing conf:  {'distribution': ['Lista', 'Seggi'], 'info': ['RestoCircoLista', 'RestoCircoListaUsato'], 'source': {'kwargs': {'seggi': {'source': {'name': 'constraints', 'type': 'kwarg'}}}, 'name': 'self.ripartisci_seggi', 'type': 'fun'}}\n",
      "prova,  dict_keys(['distribution', 'info', 'source'])\n",
      "Parsing conf:  ['Lista', 'Seggi']\n",
      "Parsing conf:  Lista\n",
      "Parsing conf:  Seggi\n",
      "Parsing conf:  ['RestoCircoLista', 'RestoCircoListaUsato']\n",
      "Parsing conf:  RestoCircoLista\n",
      "Parsing conf:  RestoCircoListaUsato\n",
      "Parsing conf:  {'kwargs': {'seggi': {'source': {'name': 'constraints', 'type': 'kwarg'}}}, 'name': 'self.ripartisci_seggi', 'type': 'fun'}\n",
      "In source\n",
      "Parsing fun:  self.ripartisci_seggi None {'seggi': {'source': {'name': 'constraints', 'type': 'kwarg'}}} {'type': 'fun'}\n",
      "Parsing conf:  {'source': {'name': 'constraints', 'type': 'kwarg'}}\n",
      "In source\n",
      "Parsing conf:  {'name': 'constraints', 'type': 'kwarg'}\n",
      "In source\n",
      "Parsing conf:  ['superdivision', 'totals', 'lanes', 'external']\n",
      "Parsing conf:  superdivision\n",
      "Parsing conf:  totals\n",
      "Parsing conf:  lanes\n",
      "Parsing conf:  external\n",
      "Parsing conf:  {'plurinominali': {'functions': [{'name': 'seggi', 'source': {'name': 'self.seggi', 'type': 'att'}}, {'name': 'liste', 'source': {'type': 'fun', 'name': 'self.totals', 'args': ['lista']}}, {'name': 'coalizioni', 'source': {'type': 'fun', 'name': 'self.totals', 'args': ['coalizione']}}], 'type': 'Plurinominale'}}\n",
      "prova,  dict_keys(['plurinominali'])\n",
      "Parsing conf:  {'functions': [{'name': 'seggi', 'source': {'name': 'self.seggi', 'type': 'att'}}, {'name': 'liste', 'source': {'type': 'fun', 'name': 'self.totals', 'args': ['lista']}}, {'name': 'coalizioni', 'source': {'type': 'fun', 'name': 'self.totals', 'args': ['coalizione']}}], 'type': 'Plurinominale'}\n",
      "prova,  dict_keys(['functions', 'type'])\n",
      "Parsing conf:  [{'name': 'seggi', 'source': {'name': 'self.seggi', 'type': 'att'}}, {'name': 'liste', 'source': {'type': 'fun', 'name': 'self.totals', 'args': ['lista']}}, {'name': 'coalizioni', 'source': {'type': 'fun', 'name': 'self.totals', 'args': ['coalizione']}}]\n",
      "Parsing conf:  {'name': 'seggi', 'source': {'name': 'self.seggi', 'type': 'att'}}\n",
      "prova,  dict_keys(['name', 'source'])\n",
      "Parsing conf:  seggi\n",
      "Parsing conf:  {'name': 'self.seggi', 'type': 'att'}\n",
      "In source\n",
      "Parsing conf:  {'name': 'liste', 'source': {'type': 'fun', 'name': 'self.totals', 'args': ['lista']}}\n",
      "prova,  dict_keys(['name', 'source'])\n",
      "Parsing conf:  liste\n",
      "Parsing conf:  {'type': 'fun', 'name': 'self.totals', 'args': ['lista']}\n",
      "In source\n",
      "Parsing fun:  self.totals ['lista'] None {'type': 'fun'}\n",
      "Parsing conf:  lista\n",
      "In source\n",
      "Parsing conf:  {'name': 'coalizioni', 'source': {'type': 'fun', 'name': 'self.totals', 'args': ['coalizione']}}\n",
      "prova,  dict_keys(['name', 'source'])\n",
      "Parsing conf:  coalizioni\n",
      "Parsing conf:  {'type': 'fun', 'name': 'self.totals', 'args': ['coalizione']}\n",
      "In source\n",
      "Parsing fun:  self.totals ['coalizione'] None {'type': 'fun'}\n",
      "Parsing conf:  coalizione\n",
      "In source\n",
      "Parsing conf:  Plurinominale\n",
      "Parsing conf:  {'coalizione': {'keys': ['Coalizione'], 'ops': {'Voti': 'sum'}, 'source': {'name': 'self.subs_plurinominali_coalizioni', 'type': 'fun'}, 'type': 'aggregate'}, 'lista': {'keys': ['Lista'], 'ops': {'Voti': 'sum'}, 'source': {'name': 'self.subs_plurinominali_liste', 'type': 'fun'}, 'type': 'aggregate'}}\n",
      "prova,  dict_keys(['coalizione', 'lista'])\n",
      "Parsing conf:  {'keys': ['Coalizione'], 'ops': {'Voti': 'sum'}, 'source': {'name': 'self.subs_plurinominali_coalizioni', 'type': 'fun'}, 'type': 'aggregate'}\n",
      "prova,  dict_keys(['keys', 'ops', 'source', 'type'])\n",
      "Parsing conf:  ['Coalizione']\n",
      "Parsing conf:  Coalizione\n",
      "Parsing conf:  {'Voti': 'sum'}\n",
      "prova,  dict_keys(['Voti'])\n",
      "Parsing conf:  sum\n",
      "Parsing conf:  {'name': 'self.subs_plurinominali_coalizioni', 'type': 'fun'}\n",
      "In source\n",
      "Parsing fun:  self.subs_plurinominali_coalizioni None None {'type': 'fun'}\n",
      "Parsing conf:  aggregate\n",
      "Parsing conf:  {'keys': ['Lista'], 'ops': {'Voti': 'sum'}, 'source': {'name': 'self.subs_plurinominali_liste', 'type': 'fun'}, 'type': 'aggregate'}\n",
      "prova,  dict_keys(['keys', 'ops', 'source', 'type'])\n",
      "Parsing conf:  ['Lista']\n",
      "Parsing conf:  Lista\n",
      "Parsing conf:  {'Voti': 'sum'}\n",
      "prova,  dict_keys(['Voti'])\n",
      "Parsing conf:  sum\n",
      "Parsing conf:  {'name': 'self.subs_plurinominali_liste', 'type': 'fun'}\n",
      "In source\n",
      "Parsing fun:  self.subs_plurinominali_liste None None {'type': 'fun'}\n",
      "Parsing conf:  aggregate\n",
      "Parsing conf:  {'eleggibili': {'args': [{'source': {'args': ['coalizione', 'coal_eletta'], 'columns': ['Coalizione -> Elettore', 'Voti'], 'type': 'fun', 'name': 'self.totals'}, 'type': 'scalar'}, {'source': {'args': ['lista', 'eletta_sola'], 'columns': ['Lista -> Elettore', 'Voti'], 'type': 'fun', 'name': 'self.totals'}, 'type': 'scalar'}], 'function': 'commons.concat', 'type': 'combine'}, 'elettore_lista': {'ops': [{'column': 'Lista', 'column_type': 'Partito', 'replace_name': 'Elettore', 'source': {'attr': ['elettore'], 'name': 'commons.exec_fun', 'type': 'fun'}, 'type': 'column'}], 'source': {'type': 'fun', 'name': 'self.totals', 'args': ['lista']}, 'type': 'transform'}, 'ripartisci_seggi': {'args': [{'source': {'args': ['lista', 'eletta'], 'rename': {'Lista': 'Party', 'Voti': 'Votes'}, 'type': 'fun', 'name': 'self.totals'}, 'type': 'dataframe'}, {'source': {'columns': ['Lista -> Party', 'Elettore'], 'name': 'self.elettore_lista', 'type': 'fun'}, 'type': 'dataframe'}, {'source': {'columns': ['Elettore', 'Seggi -> seats'], 'name': 'seggi', 'type': 'kwarg'}, 'type': 'series'}], 'function': 'commons.hondt', 'keys': ['Elettore'], 'merge_keys': ['Party'], 'rename': {'Party': 'Lista', 'Remainder': 'RestoCircoLista', 'RemainderUsed': 'RestoCircoListaUsato', 'Seats': 'Seggi'}, 'type': 'combine'}}\n",
      "prova,  dict_keys(['eleggibili', 'elettore_lista', 'ripartisci_seggi'])\n",
      "Parsing conf:  {'args': [{'source': {'args': ['coalizione', 'coal_eletta'], 'columns': ['Coalizione -> Elettore', 'Voti'], 'type': 'fun', 'name': 'self.totals'}, 'type': 'scalar'}, {'source': {'args': ['lista', 'eletta_sola'], 'columns': ['Lista -> Elettore', 'Voti'], 'type': 'fun', 'name': 'self.totals'}, 'type': 'scalar'}], 'function': 'commons.concat', 'type': 'combine'}\n",
      "prova,  dict_keys(['args', 'function', 'type'])\n",
      "Parsing conf:  [{'source': {'args': ['coalizione', 'coal_eletta'], 'columns': ['Coalizione -> Elettore', 'Voti'], 'type': 'fun', 'name': 'self.totals'}, 'type': 'scalar'}, {'source': {'args': ['lista', 'eletta_sola'], 'columns': ['Lista -> Elettore', 'Voti'], 'type': 'fun', 'name': 'self.totals'}, 'type': 'scalar'}]\n",
      "Parsing conf:  {'source': {'args': ['coalizione', 'coal_eletta'], 'columns': ['Coalizione -> Elettore', 'Voti'], 'type': 'fun', 'name': 'self.totals'}, 'type': 'scalar'}\n",
      "prova,  dict_keys(['source', 'type'])\n",
      "Parsing conf:  {'args': ['coalizione', 'coal_eletta'], 'columns': ['Coalizione -> Elettore', 'Voti'], 'type': 'fun', 'name': 'self.totals'}\n",
      "In source\n",
      "Parsing fun:  self.totals ['coalizione', 'coal_eletta'] None {'columns': ['Coalizione -> Elettore', 'Voti'], 'type': 'fun'}\n",
      "Parsing conf:  coalizione\n",
      "In source\n",
      "Parsing conf:  coal_eletta\n",
      "In source\n",
      "Parsing conf:  scalar\n",
      "Parsing conf:  {'source': {'args': ['lista', 'eletta_sola'], 'columns': ['Lista -> Elettore', 'Voti'], 'type': 'fun', 'name': 'self.totals'}, 'type': 'scalar'}\n",
      "prova,  dict_keys(['source', 'type'])\n",
      "Parsing conf:  {'args': ['lista', 'eletta_sola'], 'columns': ['Lista -> Elettore', 'Voti'], 'type': 'fun', 'name': 'self.totals'}\n",
      "In source\n",
      "Parsing fun:  self.totals ['lista', 'eletta_sola'] None {'columns': ['Lista -> Elettore', 'Voti'], 'type': 'fun'}\n",
      "Parsing conf:  lista\n",
      "In source\n",
      "Parsing conf:  eletta_sola\n",
      "In source\n",
      "Parsing conf:  scalar\n",
      "Parsing conf:  commons.concat\n",
      "Parsing conf:  combine\n",
      "Parsing conf:  {'ops': [{'column': 'Lista', 'column_type': 'Partito', 'replace_name': 'Elettore', 'source': {'attr': ['elettore'], 'name': 'commons.exec_fun', 'type': 'fun'}, 'type': 'column'}], 'source': {'type': 'fun', 'name': 'self.totals', 'args': ['lista']}, 'type': 'transform'}\n",
      "prova,  dict_keys(['ops', 'source', 'type'])\n",
      "Parsing conf:  [{'column': 'Lista', 'column_type': 'Partito', 'replace_name': 'Elettore', 'source': {'attr': ['elettore'], 'name': 'commons.exec_fun', 'type': 'fun'}, 'type': 'column'}]\n",
      "Parsing conf:  {'column': 'Lista', 'column_type': 'Partito', 'replace_name': 'Elettore', 'source': {'attr': ['elettore'], 'name': 'commons.exec_fun', 'type': 'fun'}, 'type': 'column'}\n",
      "prova,  dict_keys(['column', 'column_type', 'replace_name', 'source', 'type'])\n",
      "Parsing conf:  Lista\n",
      "Parsing conf:  Partito\n",
      "Parsing conf:  Elettore\n",
      "Parsing conf:  {'attr': ['elettore'], 'name': 'commons.exec_fun', 'type': 'fun'}\n",
      "In source\n",
      "Parsing fun:  commons.exec_fun None None {'attr': ['elettore'], 'type': 'fun'}\n",
      "Parsing conf:  column\n",
      "Parsing conf:  {'type': 'fun', 'name': 'self.totals', 'args': ['lista']}\n",
      "In source\n",
      "Parsing fun:  self.totals ['lista'] None {'type': 'fun'}\n",
      "Parsing conf:  lista\n",
      "In source\n",
      "Parsing conf:  transform\n",
      "Parsing conf:  {'args': [{'source': {'args': ['lista', 'eletta'], 'rename': {'Lista': 'Party', 'Voti': 'Votes'}, 'type': 'fun', 'name': 'self.totals'}, 'type': 'dataframe'}, {'source': {'columns': ['Lista -> Party', 'Elettore'], 'name': 'self.elettore_lista', 'type': 'fun'}, 'type': 'dataframe'}, {'source': {'columns': ['Elettore', 'Seggi -> seats'], 'name': 'seggi', 'type': 'kwarg'}, 'type': 'series'}], 'function': 'commons.hondt', 'keys': ['Elettore'], 'merge_keys': ['Party'], 'rename': {'Party': 'Lista', 'Remainder': 'RestoCircoLista', 'RemainderUsed': 'RestoCircoListaUsato', 'Seats': 'Seggi'}, 'type': 'combine'}\n",
      "prova,  dict_keys(['args', 'function', 'keys', 'merge_keys', 'rename', 'type'])\n",
      "Parsing conf:  [{'source': {'args': ['lista', 'eletta'], 'rename': {'Lista': 'Party', 'Voti': 'Votes'}, 'type': 'fun', 'name': 'self.totals'}, 'type': 'dataframe'}, {'source': {'columns': ['Lista -> Party', 'Elettore'], 'name': 'self.elettore_lista', 'type': 'fun'}, 'type': 'dataframe'}, {'source': {'columns': ['Elettore', 'Seggi -> seats'], 'name': 'seggi', 'type': 'kwarg'}, 'type': 'series'}]\n",
      "Parsing conf:  {'source': {'args': ['lista', 'eletta'], 'rename': {'Lista': 'Party', 'Voti': 'Votes'}, 'type': 'fun', 'name': 'self.totals'}, 'type': 'dataframe'}\n",
      "prova,  dict_keys(['source', 'type'])\n",
      "Parsing conf:  {'args': ['lista', 'eletta'], 'rename': {'Lista': 'Party', 'Voti': 'Votes'}, 'type': 'fun', 'name': 'self.totals'}\n",
      "In source\n",
      "Parsing fun:  self.totals ['lista', 'eletta'] None {'rename': {'Lista': 'Party', 'Voti': 'Votes'}, 'type': 'fun'}\n",
      "Parsing conf:  lista\n",
      "In source\n",
      "Parsing conf:  eletta\n",
      "In source\n",
      "Parsing conf:  dataframe\n",
      "Parsing conf:  {'source': {'columns': ['Lista -> Party', 'Elettore'], 'name': 'self.elettore_lista', 'type': 'fun'}, 'type': 'dataframe'}\n",
      "prova,  dict_keys(['source', 'type'])\n",
      "Parsing conf:  {'columns': ['Lista -> Party', 'Elettore'], 'name': 'self.elettore_lista', 'type': 'fun'}\n",
      "In source\n",
      "Parsing fun:  self.elettore_lista None None {'columns': ['Lista -> Party', 'Elettore'], 'type': 'fun'}\n",
      "Parsing conf:  dataframe\n",
      "Parsing conf:  {'source': {'columns': ['Elettore', 'Seggi -> seats'], 'name': 'seggi', 'type': 'kwarg'}, 'type': 'series'}\n",
      "prova,  dict_keys(['source', 'type'])\n",
      "Parsing conf:  {'columns': ['Elettore', 'Seggi -> seats'], 'name': 'seggi', 'type': 'kwarg'}\n",
      "In source\n",
      "Parsing conf:  series\n",
      "Parsing conf:  commons.hondt\n",
      "Parsing conf:  ['Elettore']\n",
      "Parsing conf:  Elettore\n",
      "Parsing conf:  ['Party']\n",
      "Parsing conf:  Party\n",
      "Parsing conf:  {'Party': 'Lista', 'Remainder': 'RestoCircoLista', 'RemainderUsed': 'RestoCircoListaUsato', 'Seats': 'Seggi'}\n",
      "prova,  dict_keys(['Party', 'Remainder', 'RemainderUsed', 'Seats'])\n",
      "Parsing conf:  Lista\n",
      "Parsing conf:  RestoCircoLista\n",
      "Parsing conf:  RestoCircoListaUsato\n",
      "Parsing conf:  Seggi\n",
      "Parsing conf:  combine\n"
     ]
    }
   ],
   "source": [
    "#conf_aft_superdiv = src.Metaclasses.superdivision.parse_conf(config)\n",
    "conf_aft_totals = src.Metaclasses.totals.parse_conf(config)\n",
    "conf_aft_lanes = src.Metaclasses.lanes.parse_conf(conf_aft_totals)\n",
    "conf_aft_external = src.Metaclasses.external.parse_conf(conf_aft_lanes)\n",
    "conf_fin = src.Metaclasses.sources_parse.source_parse(conf_aft_external)"
   ]
  },
  {
   "cell_type": "code",
   "execution_count": null,
   "metadata": {},
   "outputs": [],
   "source": []
  },
  {
   "cell_type": "code",
   "execution_count": 6,
   "metadata": {},
   "outputs": [],
   "source": [
    "class cleanup(type):\n",
    "    def __new__(mcs, *args, **kwargs):\n",
    "        print(\"Conf cleanup: \", args, kwargs)\n",
    "        if '__init__' in args[2]:\n",
    "            o_init = args[2].get('__init__')\n",
    "            def n__init__(self, name, **kwargs):\n",
    "                print(\"Init cleanup preesistente\")\n",
    "                src.GlobalVars.Hub.add_instance(args[0], name, self)\n",
    "                self.name = name\n",
    "                return o_init(self, [], **kwargs)\n",
    "            args[2]['__init__'] = n__init__\n",
    "        else:\n",
    "            def n_init__(self, name, **kwargs):\n",
    "                print(\"init cleanup nuovo\")\n",
    "                self.name = name\n",
    "                src.GlobalVars.Hub.add_instance(args[0], name, self)\n",
    "            \n",
    "            args[2]['__init__'] = n_init__\n",
    "        \n",
    "        args[2]['type'] = args[0]\n",
    "        \n",
    "        return super().__new__(mcs, *args)\n",
    "\n",
    "comb = type(\"Metaclasse\", (superdivision, totals, lanes, external, cleanup), {})"
   ]
  },
  {
   "cell_type": "code",
   "execution_count": 7,
   "metadata": {
    "collapsed": true
   },
   "outputs": [
    {
     "name": "stdout",
     "output_type": "stream",
     "text": [
      "Superdivision configuration:  {'plurinominali': {'functions': [{'name': 'seggi', 'source': <function source_parse.<locals>.function_returned at 0x7fae33053a60>}, {'name': 'liste', 'source': <function source_parse.<locals>.function_returned at 0x7fae33050670>}, {'name': 'coalizioni', 'source': <function source_parse.<locals>.function_returned at 0x7fae330505e0>}], 'type': 'Plurinominale'}}\n",
      "Adding sub:  Circoscrizione Plurinominale plurinominali\n",
      "After superdivision:  ('Circoscrizione', (), {'subs_plurinominali_seggi': <function superdivision.generate_accessor.<locals>.accessor at 0x7fae32ff35e0>, 'subs_plurinominali_liste': <function superdivision.generate_accessor.<locals>.accessor at 0x7fae32ff30d0>, 'subs_plurinominali_coalizioni': <function superdivision.generate_accessor.<locals>.accessor at 0x7fae32ff33a0>}) {'lane': {'plurinominale': {'first_input': 'kwarg', 'info_name': 'Circoscrizione', 'node_type': 'node', 'operations': [{'collect_type': 'lista', 'corrector': 'commons.correct', 'ideal_distribution': '$'}], 'sub_level': 'Plurinominale'}}, 'lanes_propose': {'elettori': {'distribution': ['Elettore', 'Seggi'], 'info': ['RestoCircoCoal', 'RestoCircoCoalUsato'], 'source': <function source_parse.<locals>.function_returned at 0x7fae32ff1dc0>}, 'liste': {'distribution': ['Lista', 'Seggi'], 'info': ['RestoCircoLista', 'RestoCircoListaUsato'], 'source': <function source_parse.<locals>.function_returned at 0x7fae32fe8040>}}, 'metaclasses': ['superdivision', 'totals', 'lanes', 'external'], 'totals': {'coalizione': {'keys': ['Coalizione'], 'ops': {'Voti': 'sum'}, 'source': <function source_parse.<locals>.function_returned at 0x7fae32fe8ee0>, 'type': 'aggregate'}, 'lista': {'keys': ['Lista'], 'ops': {'Voti': 'sum'}, 'source': <function source_parse.<locals>.function_returned at 0x7fae32fd6040>, 'type': 'aggregate'}}, 'totals_support': {'eleggibili': {'args': [{'source': <function source_parse.<locals>.function_returned at 0x7fae330535e0>, 'type': 'scalar'}, {'source': <function source_parse.<locals>.function_returned at 0x7fae32ff10d0>, 'type': 'scalar'}], 'function': 'commons.concat', 'type': 'combine'}, 'elettore_lista': {'ops': [{'column': 'Lista', 'column_type': 'Partito', 'replace_name': 'Elettore', 'source': <function source_parse.<locals>.function_returned at 0x7fae32fe8550>, 'type': 'column'}], 'source': <function source_parse.<locals>.function_returned at 0x7fae32fe3940>, 'type': 'transform'}, 'ripartisci_seggi': {'args': [{'source': <function source_parse.<locals>.function_returned at 0x7fae32ff4790>, 'type': 'dataframe'}, {'source': <function source_parse.<locals>.function_returned at 0x7fae32ff5940>, 'type': 'dataframe'}, {'source': <function source_parse.<locals>.function_returned at 0x7fae32ff4820>, 'type': 'series'}], 'function': 'commons.hondt', 'keys': ['Elettore'], 'merge_keys': ['Party'], 'rename': {'Party': 'Lista', 'Remainder': 'RestoCircoLista', 'RemainderUsed': 'RestoCircoListaUsato', 'Seats': 'Seggi'}, 'type': 'combine'}}, 'external': {'plurinominali': {'init': True}}}\n",
      "External conf:  {'plurinominali': {'init': True}}\n",
      "Init vars external:  [('plurinominali', ())]\n",
      "external processed:  {'plurinominali': {'init': True}}\n",
      "{'get_plurinominali': <function external.gen_accessors.<locals>.gen_fun.<locals>.acc at 0x7fae32fe3af0>} {'give_plurinominali': <function external.gen_providers.<locals>.gen_fun.<locals>.give at 0x7fae32fe3b80>}\n",
      "Conf cleanup:  ('Circoscrizione', (), {'subs_plurinominali_seggi': <function superdivision.generate_accessor.<locals>.accessor at 0x7fae32ff35e0>, 'subs_plurinominali_liste': <function superdivision.generate_accessor.<locals>.accessor at 0x7fae32ff30d0>, 'subs_plurinominali_coalizioni': <function superdivision.generate_accessor.<locals>.accessor at 0x7fae32ff33a0>, 'totals': <function totals.__new__.<locals>.totals_f at 0x7fae32ff4af0>, 'eleggibili': <function totals.parse_total_support.<locals>.tots_sup_self at 0x7fae32ff43a0>, 'elettore_lista': <function totals.parse_total_support.<locals>.tots_sup_self at 0x7fae32ff45e0>, 'ripartisci_seggi': <function totals.parse_total_support.<locals>.tots_sup_self at 0x7fae32ff4a60>, 'exec_lane': <function lanes.__new__.<locals>.new_exec at 0x7fae32ff4e50>, 'propose': <function lanes.parse_propose.<locals>.propose at 0x7fae32fe3700>, '__init__': <function external.__new__.<locals>.__init__ at 0x7fae32fe3820>, 'get_plurinominali': <function external.gen_accessors.<locals>.gen_fun.<locals>.acc at 0x7fae32fe3af0>, 'give_plurinominali': <function external.gen_providers.<locals>.gen_fun.<locals>.give at 0x7fae32fe3b80>}) {'metaclasses': ['superdivision', 'totals', 'lanes', 'external']}\n"
     ]
    }
   ],
   "source": [
    "Circoscrizione = comb(\"Circoscrizione\", (),{}, **conf_fin)"
   ]
  },
  {
   "cell_type": "code",
   "execution_count": 8,
   "metadata": {
    "collapsed": true
   },
   "outputs": [
    {
     "name": "stdout",
     "output_type": "stream",
     "text": [
      "Init cleanup preesistente\n",
      "Init operations of external: \n",
      "Adding  ['a', 'b', 'c']  come  plurinominali\n"
     ]
    }
   ],
   "source": [
    "c = Circoscrizione(\"ciao\", plurinominali=['a','b','c'])"
   ]
  },
  {
   "cell_type": "code",
   "execution_count": 9,
   "metadata": {
    "collapsed": true
   },
   "outputs": [
    {
     "data": {
      "text/plain": [
       "{'Circoscrizione': {'ciao': <__main__.Circoscrizione at 0x7fae33009dc0>}}"
      ]
     },
     "execution_count": 9,
     "metadata": {},
     "output_type": "execute_result"
    }
   ],
   "source": [
    "src.GlobalVars.Hub.instances_dict"
   ]
  },
  {
   "cell_type": "code",
   "execution_count": 10,
   "metadata": {},
   "outputs": [],
   "source": [
    "import pandas as pd"
   ]
  },
  {
   "cell_type": "code",
   "execution_count": 11,
   "metadata": {},
   "outputs": [],
   "source": [
    "class PolEnt:\n",
    "    def __init__(self, name):\n",
    "        self.name = name\n",
    "        src.GlobalVars.Hub.add_instance(\"PolEnt\", name, self)\n",
    "\n",
    "class Plurinominale:\n",
    "    def __init__(self, name, seggi):\n",
    "        self.seggi = seggi\n",
    "        self.name = name\n",
    "        src.GlobalVars.Hub.add_instance(\"Plurinominale\", name, self)\n",
    "    def totals(self, *a, **k):\n",
    "        print(\"Totals pluri: \",a, k)\n",
    "        return pd.DataFrame({'Coalizione':['a','b'],'Voti':[self.seggi, self.seggi+2]})\n",
    "\n",
    "p1 = Plurinominale('a',5)\n",
    "p2 = Plurinominale('b',4)\n",
    "p3 = Plurinominale('c',3)"
   ]
  },
  {
   "cell_type": "code",
   "execution_count": 12,
   "metadata": {
    "collapsed": true
   },
   "outputs": [
    {
     "name": "stdout",
     "output_type": "stream",
     "text": [
      "ret_fun_parse: []\n",
      "Locals prima di cercare la funzione:  {'self': <__main__.Circoscrizione object at 0x7fae33009dc0>}\n",
      "Cerco funzione:  self.subs_plurinominali_liste\n",
      "<bound method superdivision.generate_accessor.<locals>.accessor of <__main__.Circoscrizione object at 0x7fae33009dc0>>\n",
      "Get subdivisions:  <__main__.Circoscrizione object at 0x7fae33009dc0> Plurinominale\n",
      "getattr  <__main__.Circoscrizione object at 0x7fae33009dc0> plurinominali\n",
      "Get inst:  Plurinominale a\n",
      "Get inst:  Plurinominale b\n",
      "Get inst:  Plurinominale c\n",
      "sup_accessor:  [<__main__.Plurinominale object at 0x7fae32fef370>, <__main__.Plurinominale object at 0x7fae32fef8b0>, <__main__.Plurinominale object at 0x7fae32fef3a0>]\n",
      "source:  <function source_parse.<locals>.function_returned at 0x7fae33050670>\n",
      "ret_fun_parse: [<function source_parse.<locals>.simple_res at 0x7fae33050700>]\n",
      "Locals prima di cercare la funzione:  {'self': <__main__.Plurinominale object at 0x7fae32fef370>}\n",
      "Cerco funzione:  self.totals\n",
      "<bound method Plurinominale.totals of <__main__.Plurinominale object at 0x7fae32fef370>>\n",
      "Totals pluri:  ('lista',) {}\n",
      "ret_fun_parse: [<function source_parse.<locals>.simple_res at 0x7fae33050700>]\n",
      "Locals prima di cercare la funzione:  {'self': <__main__.Plurinominale object at 0x7fae32fef8b0>}\n",
      "Cerco funzione:  self.totals\n",
      "<bound method Plurinominale.totals of <__main__.Plurinominale object at 0x7fae32fef8b0>>\n",
      "Totals pluri:  ('lista',) {}\n",
      "ret_fun_parse: [<function source_parse.<locals>.simple_res at 0x7fae33050700>]\n",
      "Locals prima di cercare la funzione:  {'self': <__main__.Plurinominale object at 0x7fae32fef3a0>}\n",
      "Cerco funzione:  self.totals\n",
      "<bound method Plurinominale.totals of <__main__.Plurinominale object at 0x7fae32fef3a0>>\n",
      "Totals pluri:  ('lista',) {}\n"
     ]
    },
    {
     "data": {
      "text/html": [
       "<div>\n",
       "<style scoped>\n",
       "    .dataframe tbody tr th:only-of-type {\n",
       "        vertical-align: middle;\n",
       "    }\n",
       "\n",
       "    .dataframe tbody tr th {\n",
       "        vertical-align: top;\n",
       "    }\n",
       "\n",
       "    .dataframe thead th {\n",
       "        text-align: right;\n",
       "    }\n",
       "</style>\n",
       "<table border=\"1\" class=\"dataframe\">\n",
       "  <thead>\n",
       "    <tr style=\"text-align: right;\">\n",
       "      <th></th>\n",
       "      <th>Coalizione</th>\n",
       "      <th>Voti</th>\n",
       "    </tr>\n",
       "  </thead>\n",
       "  <tbody>\n",
       "    <tr>\n",
       "      <th>0</th>\n",
       "      <td>a</td>\n",
       "      <td>5</td>\n",
       "    </tr>\n",
       "    <tr>\n",
       "      <th>1</th>\n",
       "      <td>b</td>\n",
       "      <td>7</td>\n",
       "    </tr>\n",
       "    <tr>\n",
       "      <th>2</th>\n",
       "      <td>a</td>\n",
       "      <td>4</td>\n",
       "    </tr>\n",
       "    <tr>\n",
       "      <th>3</th>\n",
       "      <td>b</td>\n",
       "      <td>6</td>\n",
       "    </tr>\n",
       "    <tr>\n",
       "      <th>4</th>\n",
       "      <td>a</td>\n",
       "      <td>3</td>\n",
       "    </tr>\n",
       "    <tr>\n",
       "      <th>5</th>\n",
       "      <td>b</td>\n",
       "      <td>5</td>\n",
       "    </tr>\n",
       "  </tbody>\n",
       "</table>\n",
       "</div>"
      ],
      "text/plain": [
       "  Coalizione  Voti\n",
       "0          a     5\n",
       "1          b     7\n",
       "2          a     4\n",
       "3          b     6\n",
       "4          a     3\n",
       "5          b     5"
      ]
     },
     "execution_count": 12,
     "metadata": {},
     "output_type": "execute_result"
    }
   ],
   "source": [
    "conf_fin['totals']['lista']['source']({'self':c})"
   ]
  },
  {
   "cell_type": "code",
   "execution_count": 13,
   "metadata": {
    "collapsed": true
   },
   "outputs": [
    {
     "name": "stdout",
     "output_type": "stream",
     "text": [
      "Get subdivisions:  <__main__.Circoscrizione object at 0x7fae33009dc0> Plurinominale\n",
      "getattr  <__main__.Circoscrizione object at 0x7fae33009dc0> plurinominali\n",
      "Get inst:  Plurinominale a\n",
      "Get inst:  Plurinominale b\n",
      "Get inst:  Plurinominale c\n",
      "sup_accessor:  [<__main__.Plurinominale object at 0x7fae32fef370>, <__main__.Plurinominale object at 0x7fae32fef8b0>, <__main__.Plurinominale object at 0x7fae32fef3a0>]\n",
      "source:  <function source_parse.<locals>.function_returned at 0x7fae33053a60>\n",
      "Locals prima di trovare l'attributo:  {'self': <__main__.Plurinominale object at 0x7fae32fef370>}\n",
      "Locals prima di trovare l'attributo:  {'self': <__main__.Plurinominale object at 0x7fae32fef8b0>}\n",
      "Locals prima di trovare l'attributo:  {'self': <__main__.Plurinominale object at 0x7fae32fef3a0>}\n"
     ]
    },
    {
     "data": {
      "text/plain": [
       "12"
      ]
     },
     "execution_count": 13,
     "metadata": {},
     "output_type": "execute_result"
    }
   ],
   "source": [
    "c.subs_plurinominali_seggi()"
   ]
  },
  {
   "cell_type": "code",
   "execution_count": null,
   "metadata": {},
   "outputs": [],
   "source": [
    "c.totals('lista')"
   ]
  },
  {
   "cell_type": "code",
   "execution_count": null,
   "metadata": {},
   "outputs": [],
   "source": [
    "c.subs_plurinominali_seggi()"
   ]
  },
  {
   "cell_type": "code",
   "execution_count": null,
   "metadata": {},
   "outputs": [],
   "source": [
    "conf_fin['subdivisions']['plurinominali']['functions'][0]['source']"
   ]
  },
  {
   "cell_type": "code",
   "execution_count": null,
   "metadata": {},
   "outputs": [],
   "source": [
    "c.propose('elettori')"
   ]
  },
  {
   "cell_type": "code",
   "execution_count": 14,
   "metadata": {
    "collapsed": true
   },
   "outputs": [
    {
     "name": "stdout",
     "output_type": "stream",
     "text": [
      "Total supports locs (332):  {'self': <__main__.Circoscrizione object at 0x7fae33009dc0>}\n",
      "ret_fun_parse: []\n",
      "Locals prima di cercare la funzione:  {'self': <__main__.Circoscrizione object at 0x7fae33009dc0>}\n",
      "Cerco funzione:  self.subs_plurinominali_coalizioni\n",
      "<bound method superdivision.generate_accessor.<locals>.accessor of <__main__.Circoscrizione object at 0x7fae33009dc0>>\n",
      "Get subdivisions:  <__main__.Circoscrizione object at 0x7fae33009dc0> Plurinominale\n",
      "getattr  <__main__.Circoscrizione object at 0x7fae33009dc0> plurinominali\n",
      "Get inst:  Plurinominale a\n",
      "Get inst:  Plurinominale b\n",
      "Get inst:  Plurinominale c\n",
      "sup_accessor:  [<__main__.Plurinominale object at 0x7fae32fef370>, <__main__.Plurinominale object at 0x7fae32fef8b0>, <__main__.Plurinominale object at 0x7fae32fef3a0>]\n",
      "source:  <function source_parse.<locals>.function_returned at 0x7fae330505e0>\n",
      "ret_fun_parse: [<function source_parse.<locals>.simple_res at 0x7fae33050430>]\n",
      "Locals prima di cercare la funzione:  {'self': <__main__.Plurinominale object at 0x7fae32fef370>}\n",
      "Cerco funzione:  self.totals\n",
      "<bound method Plurinominale.totals of <__main__.Plurinominale object at 0x7fae32fef370>>\n",
      "Totals pluri:  ('coalizione', 'ciao') {}\n",
      "ret_fun_parse: [<function source_parse.<locals>.simple_res at 0x7fae33050430>]\n",
      "Locals prima di cercare la funzione:  {'self': <__main__.Plurinominale object at 0x7fae32fef8b0>}\n",
      "Cerco funzione:  self.totals\n",
      "<bound method Plurinominale.totals of <__main__.Plurinominale object at 0x7fae32fef8b0>>\n",
      "Totals pluri:  ('coalizione', 'ciao') {}\n",
      "ret_fun_parse: [<function source_parse.<locals>.simple_res at 0x7fae33050430>]\n",
      "Locals prima di cercare la funzione:  {'self': <__main__.Plurinominale object at 0x7fae32fef3a0>}\n",
      "Cerco funzione:  self.totals\n",
      "<bound method Plurinominale.totals of <__main__.Plurinominale object at 0x7fae32fef3a0>>\n",
      "Totals pluri:  ('coalizione', 'ciao') {}\n",
      "  Coalizione  Voti\n",
      "0          a    12\n",
      "1          b    18\n",
      "Get inst:  PolEnt a\n",
      "Get inst:  PolEnt a\n"
     ]
    },
    {
     "ename": "KeyError",
     "evalue": "('PolEnt', 'occurred at index 0')",
     "output_type": "error",
     "traceback": [
      "\u001b[0;31m---------------------------------------------------------------------------\u001b[0m",
      "\u001b[0;31mKeyError\u001b[0m                                  Traceback (most recent call last)",
      "\u001b[0;32m<ipython-input-14-bd3b633b37bf>\u001b[0m in \u001b[0;36m<module>\u001b[0;34m\u001b[0m\n\u001b[0;32m----> 1\u001b[0;31m \u001b[0mc\u001b[0m\u001b[0;34m.\u001b[0m\u001b[0mtotals\u001b[0m\u001b[0;34m(\u001b[0m\u001b[0;34m'coalizione'\u001b[0m\u001b[0;34m,\u001b[0m \u001b[0;34m'ciao'\u001b[0m\u001b[0;34m)\u001b[0m\u001b[0;34m\u001b[0m\u001b[0;34m\u001b[0m\u001b[0m\n\u001b[0m",
      "\u001b[0;32m~/Documents/0.University/0.SistemiElettorali/src/Metaclasses/totals.py\u001b[0m in \u001b[0;36mtotals_f\u001b[0;34m(self, lane, *args, **kwargs)\u001b[0m\n\u001b[1;32m     35\u001b[0m             \u001b[0;32mif\u001b[0m \u001b[0mlane\u001b[0m \u001b[0;32mnot\u001b[0m \u001b[0;32min\u001b[0m \u001b[0mtotals\u001b[0m\u001b[0;34m:\u001b[0m\u001b[0;34m\u001b[0m\u001b[0;34m\u001b[0m\u001b[0m\n\u001b[1;32m     36\u001b[0m                 \u001b[0;32mreturn\u001b[0m \u001b[0mold_tots\u001b[0m\u001b[0;34m(\u001b[0m\u001b[0mself\u001b[0m\u001b[0;34m,\u001b[0m \u001b[0mlane\u001b[0m\u001b[0;34m,\u001b[0m \u001b[0;34m*\u001b[0m\u001b[0margs\u001b[0m\u001b[0;34m,\u001b[0m \u001b[0;34m**\u001b[0m\u001b[0mkwargs\u001b[0m\u001b[0;34m)\u001b[0m\u001b[0;34m\u001b[0m\u001b[0;34m\u001b[0m\u001b[0m\n\u001b[0;32m---> 37\u001b[0;31m             \u001b[0;32mreturn\u001b[0m \u001b[0mtotals\u001b[0m\u001b[0;34m[\u001b[0m\u001b[0mlane\u001b[0m\u001b[0;34m]\u001b[0m\u001b[0;34m(\u001b[0m\u001b[0mself\u001b[0m\u001b[0;34m,\u001b[0m \u001b[0mlane\u001b[0m\u001b[0;34m,\u001b[0m \u001b[0;34m*\u001b[0m\u001b[0margs\u001b[0m\u001b[0;34m,\u001b[0m \u001b[0;34m**\u001b[0m\u001b[0mkwargs\u001b[0m\u001b[0;34m)\u001b[0m\u001b[0;34m\u001b[0m\u001b[0;34m\u001b[0m\u001b[0m\n\u001b[0m\u001b[1;32m     38\u001b[0m \u001b[0;34m\u001b[0m\u001b[0m\n\u001b[1;32m     39\u001b[0m         \u001b[0margs\u001b[0m\u001b[0;34m[\u001b[0m\u001b[0;36m2\u001b[0m\u001b[0;34m]\u001b[0m\u001b[0;34m[\u001b[0m\u001b[0;34m'totals'\u001b[0m\u001b[0;34m]\u001b[0m \u001b[0;34m=\u001b[0m \u001b[0mtotals_f\u001b[0m\u001b[0;34m\u001b[0m\u001b[0;34m\u001b[0m\u001b[0m\n",
      "\u001b[0;32m~/Documents/0.University/0.SistemiElettorali/src/Metaclasses/totals.py\u001b[0m in \u001b[0;36mtotals\u001b[0;34m(self, type, *sbarramenti, **kwargs)\u001b[0m\n\u001b[1;32m    301\u001b[0m \u001b[0;34m\u001b[0m\u001b[0m\n\u001b[1;32m    302\u001b[0m             \u001b[0;32mif\u001b[0m \u001b[0mlen\u001b[0m\u001b[0;34m(\u001b[0m\u001b[0msbarramenti\u001b[0m\u001b[0;34m)\u001b[0m\u001b[0;34m>\u001b[0m\u001b[0;36m0\u001b[0m\u001b[0;34m:\u001b[0m\u001b[0;34m\u001b[0m\u001b[0;34m\u001b[0m\u001b[0m\n\u001b[0;32m--> 303\u001b[0;31m                 \u001b[0;32mreturn\u001b[0m \u001b[0mres\u001b[0m\u001b[0;34m[\u001b[0m\u001b[0mres\u001b[0m\u001b[0;34m.\u001b[0m\u001b[0mapply\u001b[0m\u001b[0;34m(\u001b[0m\u001b[0mapply_filter\u001b[0m\u001b[0;34m,\u001b[0m \u001b[0maxis\u001b[0m\u001b[0;34m=\u001b[0m\u001b[0;36m1\u001b[0m\u001b[0;34m)\u001b[0m\u001b[0;34m]\u001b[0m\u001b[0;34m\u001b[0m\u001b[0;34m\u001b[0m\u001b[0m\n\u001b[0m\u001b[1;32m    304\u001b[0m             \u001b[0;32melse\u001b[0m\u001b[0;34m:\u001b[0m\u001b[0;34m\u001b[0m\u001b[0;34m\u001b[0m\u001b[0m\n\u001b[1;32m    305\u001b[0m                 \u001b[0;32mreturn\u001b[0m \u001b[0mres\u001b[0m\u001b[0;34m\u001b[0m\u001b[0;34m\u001b[0m\u001b[0m\n",
      "\u001b[0;32m~/.local/lib/python3.8/site-packages/pandas/core/frame.py\u001b[0m in \u001b[0;36mapply\u001b[0;34m(self, func, axis, broadcast, raw, reduce, result_type, args, **kwds)\u001b[0m\n\u001b[1;32m   6926\u001b[0m             \u001b[0mkwds\u001b[0m\u001b[0;34m=\u001b[0m\u001b[0mkwds\u001b[0m\u001b[0;34m,\u001b[0m\u001b[0;34m\u001b[0m\u001b[0;34m\u001b[0m\u001b[0m\n\u001b[1;32m   6927\u001b[0m         )\n\u001b[0;32m-> 6928\u001b[0;31m         \u001b[0;32mreturn\u001b[0m \u001b[0mop\u001b[0m\u001b[0;34m.\u001b[0m\u001b[0mget_result\u001b[0m\u001b[0;34m(\u001b[0m\u001b[0;34m)\u001b[0m\u001b[0;34m\u001b[0m\u001b[0;34m\u001b[0m\u001b[0m\n\u001b[0m\u001b[1;32m   6929\u001b[0m \u001b[0;34m\u001b[0m\u001b[0m\n\u001b[1;32m   6930\u001b[0m     \u001b[0;32mdef\u001b[0m \u001b[0mapplymap\u001b[0m\u001b[0;34m(\u001b[0m\u001b[0mself\u001b[0m\u001b[0;34m,\u001b[0m \u001b[0mfunc\u001b[0m\u001b[0;34m)\u001b[0m\u001b[0;34m:\u001b[0m\u001b[0;34m\u001b[0m\u001b[0;34m\u001b[0m\u001b[0m\n",
      "\u001b[0;32m~/.local/lib/python3.8/site-packages/pandas/core/apply.py\u001b[0m in \u001b[0;36mget_result\u001b[0;34m(self)\u001b[0m\n\u001b[1;32m    184\u001b[0m             \u001b[0;32mreturn\u001b[0m \u001b[0mself\u001b[0m\u001b[0;34m.\u001b[0m\u001b[0mapply_raw\u001b[0m\u001b[0;34m(\u001b[0m\u001b[0;34m)\u001b[0m\u001b[0;34m\u001b[0m\u001b[0;34m\u001b[0m\u001b[0m\n\u001b[1;32m    185\u001b[0m \u001b[0;34m\u001b[0m\u001b[0m\n\u001b[0;32m--> 186\u001b[0;31m         \u001b[0;32mreturn\u001b[0m \u001b[0mself\u001b[0m\u001b[0;34m.\u001b[0m\u001b[0mapply_standard\u001b[0m\u001b[0;34m(\u001b[0m\u001b[0;34m)\u001b[0m\u001b[0;34m\u001b[0m\u001b[0;34m\u001b[0m\u001b[0m\n\u001b[0m\u001b[1;32m    187\u001b[0m \u001b[0;34m\u001b[0m\u001b[0m\n\u001b[1;32m    188\u001b[0m     \u001b[0;32mdef\u001b[0m \u001b[0mapply_empty_result\u001b[0m\u001b[0;34m(\u001b[0m\u001b[0mself\u001b[0m\u001b[0;34m)\u001b[0m\u001b[0;34m:\u001b[0m\u001b[0;34m\u001b[0m\u001b[0;34m\u001b[0m\u001b[0m\n",
      "\u001b[0;32m~/.local/lib/python3.8/site-packages/pandas/core/apply.py\u001b[0m in \u001b[0;36mapply_standard\u001b[0;34m(self)\u001b[0m\n\u001b[1;32m    290\u001b[0m \u001b[0;34m\u001b[0m\u001b[0m\n\u001b[1;32m    291\u001b[0m         \u001b[0;31m# compute the result using the series generator\u001b[0m\u001b[0;34m\u001b[0m\u001b[0;34m\u001b[0m\u001b[0;34m\u001b[0m\u001b[0m\n\u001b[0;32m--> 292\u001b[0;31m         \u001b[0mself\u001b[0m\u001b[0;34m.\u001b[0m\u001b[0mapply_series_generator\u001b[0m\u001b[0;34m(\u001b[0m\u001b[0;34m)\u001b[0m\u001b[0;34m\u001b[0m\u001b[0;34m\u001b[0m\u001b[0m\n\u001b[0m\u001b[1;32m    293\u001b[0m \u001b[0;34m\u001b[0m\u001b[0m\n\u001b[1;32m    294\u001b[0m         \u001b[0;31m# wrap results\u001b[0m\u001b[0;34m\u001b[0m\u001b[0;34m\u001b[0m\u001b[0;34m\u001b[0m\u001b[0m\n",
      "\u001b[0;32m~/.local/lib/python3.8/site-packages/pandas/core/apply.py\u001b[0m in \u001b[0;36mapply_series_generator\u001b[0;34m(self)\u001b[0m\n\u001b[1;32m    319\u001b[0m             \u001b[0;32mtry\u001b[0m\u001b[0;34m:\u001b[0m\u001b[0;34m\u001b[0m\u001b[0;34m\u001b[0m\u001b[0m\n\u001b[1;32m    320\u001b[0m                 \u001b[0;32mfor\u001b[0m \u001b[0mi\u001b[0m\u001b[0;34m,\u001b[0m \u001b[0mv\u001b[0m \u001b[0;32min\u001b[0m \u001b[0menumerate\u001b[0m\u001b[0;34m(\u001b[0m\u001b[0mseries_gen\u001b[0m\u001b[0;34m)\u001b[0m\u001b[0;34m:\u001b[0m\u001b[0;34m\u001b[0m\u001b[0;34m\u001b[0m\u001b[0m\n\u001b[0;32m--> 321\u001b[0;31m                     \u001b[0mresults\u001b[0m\u001b[0;34m[\u001b[0m\u001b[0mi\u001b[0m\u001b[0;34m]\u001b[0m \u001b[0;34m=\u001b[0m \u001b[0mself\u001b[0m\u001b[0;34m.\u001b[0m\u001b[0mf\u001b[0m\u001b[0;34m(\u001b[0m\u001b[0mv\u001b[0m\u001b[0;34m)\u001b[0m\u001b[0;34m\u001b[0m\u001b[0;34m\u001b[0m\u001b[0m\n\u001b[0m\u001b[1;32m    322\u001b[0m                     \u001b[0mkeys\u001b[0m\u001b[0;34m.\u001b[0m\u001b[0mappend\u001b[0m\u001b[0;34m(\u001b[0m\u001b[0mv\u001b[0m\u001b[0;34m.\u001b[0m\u001b[0mname\u001b[0m\u001b[0;34m)\u001b[0m\u001b[0;34m\u001b[0m\u001b[0;34m\u001b[0m\u001b[0m\n\u001b[1;32m    323\u001b[0m             \u001b[0;32mexcept\u001b[0m \u001b[0mException\u001b[0m \u001b[0;32mas\u001b[0m \u001b[0me\u001b[0m\u001b[0;34m:\u001b[0m\u001b[0;34m\u001b[0m\u001b[0;34m\u001b[0m\u001b[0m\n",
      "\u001b[0;32m~/Documents/0.University/0.SistemiElettorali/src/Metaclasses/totals.py\u001b[0m in \u001b[0;36mapply_filter\u001b[0;34m(row)\u001b[0m\n\u001b[1;32m    297\u001b[0m \u001b[0;34m\u001b[0m\u001b[0m\n\u001b[1;32m    298\u001b[0m             \u001b[0;32mdef\u001b[0m \u001b[0mapply_filter\u001b[0m\u001b[0;34m(\u001b[0m\u001b[0mrow\u001b[0m\u001b[0;34m)\u001b[0m\u001b[0;34m:\u001b[0m\u001b[0;34m\u001b[0m\u001b[0;34m\u001b[0m\u001b[0m\n\u001b[0;32m--> 299\u001b[0;31m                 \u001b[0mpolEnt\u001b[0m \u001b[0;34m=\u001b[0m \u001b[0msrc\u001b[0m\u001b[0;34m.\u001b[0m\u001b[0mGlobalVars\u001b[0m\u001b[0;34m.\u001b[0m\u001b[0mHub\u001b[0m\u001b[0;34m.\u001b[0m\u001b[0mget_instance\u001b[0m\u001b[0;34m(\u001b[0m\u001b[0;34m\"PolEnt\"\u001b[0m\u001b[0;34m,\u001b[0m \u001b[0mrow\u001b[0m\u001b[0;34m[\u001b[0m\u001b[0mcolumns\u001b[0m\u001b[0;34m[\u001b[0m\u001b[0;36m0\u001b[0m\u001b[0;34m]\u001b[0m\u001b[0;34m]\u001b[0m\u001b[0;34m)\u001b[0m\u001b[0;34m\u001b[0m\u001b[0;34m\u001b[0m\u001b[0m\n\u001b[0m\u001b[1;32m    300\u001b[0m                 \u001b[0;32mreturn\u001b[0m \u001b[0mpolEnt\u001b[0m\u001b[0;34m.\u001b[0m\u001b[0mfilter\u001b[0m\u001b[0;34m(\u001b[0m\u001b[0mself\u001b[0m\u001b[0;34m,\u001b[0m \u001b[0mtype\u001b[0m\u001b[0;34m,\u001b[0m \u001b[0mrow\u001b[0m\u001b[0;34m,\u001b[0m \u001b[0mres\u001b[0m\u001b[0;34m,\u001b[0m \u001b[0msbarramenti\u001b[0m\u001b[0;34m=\u001b[0m\u001b[0msbarramenti\u001b[0m\u001b[0;34m)\u001b[0m\u001b[0;34m\u001b[0m\u001b[0;34m\u001b[0m\u001b[0m\n\u001b[1;32m    301\u001b[0m \u001b[0;34m\u001b[0m\u001b[0m\n",
      "\u001b[0;32m<ipython-input-2-0a2ab83b3e0f>\u001b[0m in \u001b[0;36mget_instance\u001b[0;34m(self, class_name, inst_name)\u001b[0m\n\u001b[1;32m     42\u001b[0m     \u001b[0;32mdef\u001b[0m \u001b[0mget_instance\u001b[0m\u001b[0;34m(\u001b[0m\u001b[0mself\u001b[0m\u001b[0;34m,\u001b[0m \u001b[0mclass_name\u001b[0m\u001b[0;34m,\u001b[0m \u001b[0minst_name\u001b[0m\u001b[0;34m)\u001b[0m\u001b[0;34m:\u001b[0m\u001b[0;34m\u001b[0m\u001b[0;34m\u001b[0m\u001b[0m\n\u001b[1;32m     43\u001b[0m         \u001b[0mprint\u001b[0m\u001b[0;34m(\u001b[0m\u001b[0;34m\"Get inst: \"\u001b[0m\u001b[0;34m,\u001b[0m \u001b[0mclass_name\u001b[0m\u001b[0;34m,\u001b[0m \u001b[0minst_name\u001b[0m\u001b[0;34m)\u001b[0m\u001b[0;34m\u001b[0m\u001b[0;34m\u001b[0m\u001b[0m\n\u001b[0;32m---> 44\u001b[0;31m         \u001b[0;32mreturn\u001b[0m \u001b[0mself\u001b[0m\u001b[0;34m.\u001b[0m\u001b[0minstances_dict\u001b[0m\u001b[0;34m[\u001b[0m\u001b[0mclass_name\u001b[0m\u001b[0;34m]\u001b[0m\u001b[0;34m[\u001b[0m\u001b[0minst_name\u001b[0m\u001b[0;34m]\u001b[0m\u001b[0;34m\u001b[0m\u001b[0;34m\u001b[0m\u001b[0m\n\u001b[0m\u001b[1;32m     45\u001b[0m \u001b[0;34m\u001b[0m\u001b[0m\n\u001b[1;32m     46\u001b[0m     \u001b[0;32mdef\u001b[0m \u001b[0madd_subdiv\u001b[0m\u001b[0;34m(\u001b[0m\u001b[0mself\u001b[0m\u001b[0;34m,\u001b[0m \u001b[0msup_type\u001b[0m\u001b[0;34m,\u001b[0m \u001b[0msub_type\u001b[0m\u001b[0;34m,\u001b[0m \u001b[0mvar_name\u001b[0m\u001b[0;34m)\u001b[0m\u001b[0;34m:\u001b[0m\u001b[0;34m\u001b[0m\u001b[0;34m\u001b[0m\u001b[0m\n",
      "\u001b[0;31mKeyError\u001b[0m: ('PolEnt', 'occurred at index 0')"
     ]
    }
   ],
   "source": [
    "c.totals('coalizione', 'ciao')"
   ]
  },
  {
   "cell_type": "code",
   "execution_count": null,
   "metadata": {},
   "outputs": [],
   "source": []
  },
  {
   "cell_type": "code",
   "execution_count": null,
   "metadata": {},
   "outputs": [],
   "source": []
  },
  {
   "cell_type": "code",
   "execution_count": null,
   "metadata": {},
   "outputs": [],
   "source": []
  },
  {
   "cell_type": "code",
   "execution_count": null,
   "metadata": {},
   "outputs": [],
   "source": []
  },
  {
   "cell_type": "code",
   "execution_count": null,
   "metadata": {},
   "outputs": [],
   "source": []
  },
  {
   "cell_type": "code",
   "execution_count": null,
   "metadata": {},
   "outputs": [],
   "source": []
  },
  {
   "cell_type": "code",
   "execution_count": null,
   "metadata": {},
   "outputs": [],
   "source": []
  },
  {
   "cell_type": "code",
   "execution_count": null,
   "metadata": {},
   "outputs": [],
   "source": []
  },
  {
   "cell_type": "code",
   "execution_count": null,
   "metadata": {},
   "outputs": [],
   "source": []
  }
 ],
 "metadata": {
  "kernelspec": {
   "display_name": "Python 3",
   "language": "python",
   "name": "python3"
  },
  "language_info": {
   "codemirror_mode": {
    "name": "ipython",
    "version": 3
   },
   "file_extension": ".py",
   "mimetype": "text/x-python",
   "name": "python",
   "nbconvert_exporter": "python",
   "pygments_lexer": "ipython3",
   "version": "3.8.1"
  }
 },
 "nbformat": 4,
 "nbformat_minor": 2
}
